{
 "cells": [
  {
   "attachments": {},
   "cell_type": "markdown",
   "metadata": {
    "execution": {
     "iopub.execute_input": "2021-07-14T07:39:16.657586Z",
     "iopub.status.busy": "2021-07-14T07:39:16.657090Z",
     "iopub.status.idle": "2021-07-14T07:39:16.848501Z",
     "shell.execute_reply": "2021-07-14T07:39:16.846744Z",
     "shell.execute_reply.started": "2021-07-14T07:39:16.657491Z"
    }
   },
   "source": [
    "# 자동차 리콜 데이터 분석"
   ]
  },
  {
   "attachments": {},
   "cell_type": "markdown",
   "metadata": {
    "execution": {
     "iopub.execute_input": "2021-07-14T07:40:47.362214Z",
     "iopub.status.busy": "2021-07-14T07:40:47.361841Z",
     "iopub.status.idle": "2021-07-14T07:40:47.368894Z",
     "shell.execute_reply": "2021-07-14T07:40:47.367421Z",
     "shell.execute_reply.started": "2021-07-14T07:40:47.362181Z"
    }
   },
   "source": [
    "---"
   ]
  },
  {
   "attachments": {},
   "cell_type": "markdown",
   "metadata": {},
   "source": [
    "## 프로젝트 목표\n",
    "- 한국교통안전공단 자동차 결함 리콜 데이터를 분석하여 유의미한 정보 도출\n",
    "- 탐색적 데이터 분석을 수행하기 위한 데이터 정제, 특성 엔지니어링, 시각화 방법 학습"
   ]
  },
  {
   "attachments": {},
   "cell_type": "markdown",
   "metadata": {},
   "source": [
    "---"
   ]
  },
  {
   "attachments": {},
   "cell_type": "markdown",
   "metadata": {},
   "source": [
    "## 프로젝트 목차\n",
    "1. **데이터 읽기:** 자동차 리콜 데이터를 불러오고 Dataframe 구조를 확인<br>\n",
    "    1.1. 데이터 불러오기<br>\n",
    "<br> \n",
    "2. **데이터 정제:** 결측치 확인 및 기초적인 데이터 변형<br>\n",
    "    2.1. 결측치 확인<br>\n",
    "    2.2. 중복값 확인<br>\n",
    "    2.3. 기초적인 데이터 변형<br>\n",
    "<br>\n",
    "3. **데이터 시각화:** 각 변수 별로 추가적인 정제 또는 feature engineering 과정을 거치고 시각화를 통하여 데이터의 특성 파악<br>\n",
    "    3.1. 제조사별 리콜 현황 출력<br>\n",
    "    3.2. 모델별 리콜 현황 출력<br>\n",
    "    3.3. 월별 리콜 현황 출력<br>\n",
    "    3.4. 생산연도별 리콜 현황 출력<br>\n",
    "    3.5. 4분기 제조사별 리콜 현황 출력<br>\n",
    "    3.6. 하반기 생산연도별 리콜 현황 출력<br>\n",
    "    3.7. 워드 클라우드를 이용한 리콜 사유 시각화<br>"
   ]
  },
  {
   "attachments": {},
   "cell_type": "markdown",
   "metadata": {},
   "source": [
    "---"
   ]
  },
  {
   "attachments": {},
   "cell_type": "markdown",
   "metadata": {},
   "source": [
    "## 데이터 출처\n",
    "-  https://www.data.go.kr/data/3048950/fileData.do"
   ]
  },
  {
   "attachments": {},
   "cell_type": "markdown",
   "metadata": {},
   "source": [
    "---"
   ]
  },
  {
   "attachments": {},
   "cell_type": "markdown",
   "metadata": {},
   "source": [
    "## 프로젝트 개요\n",
    "\n",
    "리콜(recall)은 제품의 설계, 제조 단계에서 결함이 발견되었을 시 문제 예방의 차원에서 판매자가 무상으로 수리, 점검 및 교환을 해주는 소비자 보호 제도입니다. 집집마다 개인용 자동차를 보유하게 되면서 자동차는 어느덧 우리 삶의 일상재가 되었지만, 안전성에 대해서는 산발적인 문제 제기가 계속되고 있고, 이에 따라 전격적인 자동차 리콜 사태도 종종 발생하여 화제를 모으곤 합니다.\n",
    "\n",
    "이번 프로젝트에서는 한국교통안전공단에서 제공한 2022년 자동차 결함 리콜 데이터를 활용하여 유의미한 패턴 및 인사이트를 발굴하고 시각화하는 실습을 진행하도록 하겠습니다."
   ]
  },
  {
   "attachments": {},
   "cell_type": "markdown",
   "metadata": {},
   "source": [
    "---"
   ]
  },
  {
   "attachments": {},
   "cell_type": "markdown",
   "metadata": {},
   "source": [
    "## 1. 데이터 읽기"
   ]
  },
  {
   "attachments": {},
   "cell_type": "markdown",
   "metadata": {},
   "source": [
    "필요한 패키지 설치 및 `import`한 후 `pandas`를 사용하여 데이터를 읽고 어떠한 데이터가 저장되어 있는지 확인합니다."
   ]
  },
  {
   "attachments": {},
   "cell_type": "markdown",
   "metadata": {},
   "source": [
    "### 1.1. 데이터 불러오기"
   ]
  },
  {
   "cell_type": "code",
   "execution_count": 3,
   "metadata": {
    "execution": {
     "iopub.execute_input": "2021-07-14T07:49:24.304064Z",
     "iopub.status.busy": "2021-07-14T07:49:24.303454Z",
     "iopub.status.idle": "2021-07-14T07:49:25.479762Z",
     "shell.execute_reply": "2021-07-14T07:49:25.478867Z",
     "shell.execute_reply.started": "2021-07-14T07:49:24.304010Z"
    }
   },
   "outputs": [
    {
     "ename": "ModuleNotFoundError",
     "evalue": "No module named 'numpy'",
     "output_type": "error",
     "traceback": [
      "\u001b[1;31m---------------------------------------------------------------------------\u001b[0m",
      "\u001b[1;31mModuleNotFoundError\u001b[0m                       Traceback (most recent call last)",
      "\u001b[1;32mc:\\dev_mulcam1\\0.데이터분석복습\\1.자동차리콜데이터분석\\1.자동차리콜데이터분석_matplotlib_2022.ipynb Cell 14\u001b[0m line \u001b[0;36m1\n\u001b[1;32m----> <a href='vscode-notebook-cell:/c%3A/dev_mulcam1/0.%EB%8D%B0%EC%9D%B4%ED%84%B0%EB%B6%84%EC%84%9D%EB%B3%B5%EC%8A%B5/1.%EC%9E%90%EB%8F%99%EC%B0%A8%EB%A6%AC%EC%BD%9C%EB%8D%B0%EC%9D%B4%ED%84%B0%EB%B6%84%EC%84%9D/1.%EC%9E%90%EB%8F%99%EC%B0%A8%EB%A6%AC%EC%BD%9C%EB%8D%B0%EC%9D%B4%ED%84%B0%EB%B6%84%EC%84%9D_matplotlib_2022.ipynb#X16sZmlsZQ%3D%3D?line=0'>1</a>\u001b[0m \u001b[39mimport\u001b[39;00m \u001b[39mnumpy\u001b[39;00m \u001b[39mas\u001b[39;00m \u001b[39mnp\u001b[39;00m \n\u001b[0;32m      <a href='vscode-notebook-cell:/c%3A/dev_mulcam1/0.%EB%8D%B0%EC%9D%B4%ED%84%B0%EB%B6%84%EC%84%9D%EB%B3%B5%EC%8A%B5/1.%EC%9E%90%EB%8F%99%EC%B0%A8%EB%A6%AC%EC%BD%9C%EB%8D%B0%EC%9D%B4%ED%84%B0%EB%B6%84%EC%84%9D/1.%EC%9E%90%EB%8F%99%EC%B0%A8%EB%A6%AC%EC%BD%9C%EB%8D%B0%EC%9D%B4%ED%84%B0%EB%B6%84%EC%84%9D_matplotlib_2022.ipynb#X16sZmlsZQ%3D%3D?line=1'>2</a>\u001b[0m \u001b[39mimport\u001b[39;00m \u001b[39mpandas\u001b[39;00m \u001b[39mas\u001b[39;00m \u001b[39mpd\u001b[39;00m \n\u001b[0;32m      <a href='vscode-notebook-cell:/c%3A/dev_mulcam1/0.%EB%8D%B0%EC%9D%B4%ED%84%B0%EB%B6%84%EC%84%9D%EB%B3%B5%EC%8A%B5/1.%EC%9E%90%EB%8F%99%EC%B0%A8%EB%A6%AC%EC%BD%9C%EB%8D%B0%EC%9D%B4%ED%84%B0%EB%B6%84%EC%84%9D/1.%EC%9E%90%EB%8F%99%EC%B0%A8%EB%A6%AC%EC%BD%9C%EB%8D%B0%EC%9D%B4%ED%84%B0%EB%B6%84%EC%84%9D_matplotlib_2022.ipynb#X16sZmlsZQ%3D%3D?line=2'>3</a>\u001b[0m \u001b[39mimport\u001b[39;00m \u001b[39mmatplotlib\u001b[39;00m\u001b[39m.\u001b[39;00m\u001b[39mpyplot\u001b[39;00m \u001b[39mas\u001b[39;00m \u001b[39mplt\u001b[39;00m\n",
      "\u001b[1;31mModuleNotFoundError\u001b[0m: No module named 'numpy'"
     ]
    }
   ],
   "source": [
    "import numpy as np \n",
    "import pandas as pd \n",
    "import matplotlib.pyplot as plt\n",
    "import seaborn as sns\n"
   ]
  },
  {
   "cell_type": "code",
   "execution_count": null,
   "metadata": {
    "execution": {
     "iopub.execute_input": "2021-07-14T07:49:25.481432Z",
     "iopub.status.busy": "2021-07-14T07:49:25.481163Z",
     "iopub.status.idle": "2021-07-14T07:49:25.535734Z",
     "shell.execute_reply": "2021-07-14T07:49:25.534277Z",
     "shell.execute_reply.started": "2021-07-14T07:49:25.481406Z"
    }
   },
   "outputs": [],
   "source": [
    "# pd.read_csv를 통하여 dataframe 형태로 읽어옵니다.\n",
    "\n",
    "\n"
   ]
  },
  {
   "cell_type": "code",
   "execution_count": null,
   "metadata": {
    "execution": {
     "iopub.execute_input": "2021-07-14T07:49:25.538436Z",
     "iopub.status.busy": "2021-07-14T07:49:25.538013Z",
     "iopub.status.idle": "2021-07-14T07:49:25.574554Z",
     "shell.execute_reply": "2021-07-14T07:49:25.573616Z",
     "shell.execute_reply.started": "2021-07-14T07:49:25.538401Z"
    }
   },
   "outputs": [],
   "source": [
    "# 상위 5개 데이터를 출력합니다.\n"
   ]
  },
  {
   "cell_type": "code",
   "execution_count": null,
   "metadata": {
    "execution": {
     "iopub.execute_input": "2021-07-14T07:49:25.576437Z",
     "iopub.status.busy": "2021-07-14T07:49:25.576110Z",
     "iopub.status.idle": "2021-07-14T07:49:25.593406Z",
     "shell.execute_reply": "2021-07-14T07:49:25.592375Z",
     "shell.execute_reply.started": "2021-07-14T07:49:25.576409Z"
    }
   },
   "outputs": [],
   "source": [
    "# 상위 10개 데이터를 출력합니다.\n"
   ]
  },
  {
   "cell_type": "code",
   "execution_count": null,
   "metadata": {
    "execution": {
     "iopub.execute_input": "2021-07-14T07:49:25.595269Z",
     "iopub.status.busy": "2021-07-14T07:49:25.594828Z",
     "iopub.status.idle": "2021-07-14T07:49:25.616366Z",
     "shell.execute_reply": "2021-07-14T07:49:25.615093Z",
     "shell.execute_reply.started": "2021-07-14T07:49:25.595233Z"
    }
   },
   "outputs": [],
   "source": [
    "# 하위 5개 데이터를 출력합니다.\n"
   ]
  },
  {
   "cell_type": "code",
   "execution_count": null,
   "metadata": {
    "execution": {
     "iopub.execute_input": "2021-07-14T07:49:25.618499Z",
     "iopub.status.busy": "2021-07-14T07:49:25.618208Z",
     "iopub.status.idle": "2021-07-14T07:49:25.641552Z",
     "shell.execute_reply": "2021-07-14T07:49:25.640613Z",
     "shell.execute_reply.started": "2021-07-14T07:49:25.618472Z"
    }
   },
   "outputs": [],
   "source": [
    "# dataframe 정보를 요약하여 출력합니다. \n"
   ]
  },
  {
   "cell_type": "markdown",
   "metadata": {},
   "source": [
    "```\n",
    "1.관측치 수는? \n",
    "2.컬럼수는 ? \n",
    "3.결측치는? \n",
    "4.중복행은? \n",
    "5.각 피처의 타입은 적절한가? \n",
    "```"
   ]
  },
  {
   "attachments": {},
   "cell_type": "markdown",
   "metadata": {},
   "source": [
    "---"
   ]
  },
  {
   "attachments": {},
   "cell_type": "markdown",
   "metadata": {},
   "source": [
    "## 2. 데이터 정제"
   ]
  },
  {
   "attachments": {},
   "cell_type": "markdown",
   "metadata": {},
   "source": [
    "데이터를 읽고 확인했다면 결측값(missing data), 중복값(duplicates)을 처리하고 열 이름 변경과 같은 기초적인 데이터 변형을 진행해봅시다."
   ]
  },
  {
   "attachments": {},
   "cell_type": "markdown",
   "metadata": {},
   "source": [
    "### 2.1. 결측치 확인"
   ]
  },
  {
   "attachments": {},
   "cell_type": "markdown",
   "metadata": {},
   "source": [
    "`isnull()` 함수를 이용하여 결측치를 확인해봅시다."
   ]
  },
  {
   "cell_type": "code",
   "execution_count": null,
   "metadata": {},
   "outputs": [],
   "source": [
    "# 각 열 별로 결측치의 갯수를 반환합니다. (True:1, False:0)\n"
   ]
  },
  {
   "attachments": {},
   "cell_type": "markdown",
   "metadata": {},
   "source": [
    "### 2.2. 중복값 확인"
   ]
  },
  {
   "attachments": {},
   "cell_type": "markdown",
   "metadata": {},
   "source": [
    "`duplicated()` 함수를 이용하여 중복값을 확인해봅시다."
   ]
  },
  {
   "cell_type": "code",
   "execution_count": null,
   "metadata": {
    "execution": {
     "iopub.execute_input": "2021-07-14T07:49:26.204454Z",
     "iopub.status.busy": "2021-07-14T07:49:26.204028Z",
     "iopub.status.idle": "2021-07-14T07:49:26.228760Z",
     "shell.execute_reply": "2021-07-14T07:49:26.227322Z",
     "shell.execute_reply.started": "2021-07-14T07:49:26.204412Z"
    }
   },
   "outputs": [],
   "source": [
    "df[df.duplicated(keep=False)]"
   ]
  },
  {
   "attachments": {},
   "cell_type": "markdown",
   "metadata": {},
   "source": [
    "`drop_duplicates()` 함수를 이용하여 중복값을 제거합니다."
   ]
  },
  {
   "cell_type": "code",
   "execution_count": null,
   "metadata": {
    "execution": {
     "iopub.execute_input": "2021-07-14T07:49:26.230857Z",
     "iopub.status.busy": "2021-07-14T07:49:26.230464Z",
     "iopub.status.idle": "2021-07-14T07:49:26.243305Z",
     "shell.execute_reply": "2021-07-14T07:49:26.241938Z",
     "shell.execute_reply.started": "2021-07-14T07:49:26.230821Z"
    }
   },
   "outputs": [],
   "source": [
    "print(\"Before:\", len(df))\n",
    "df = df.drop_duplicates()\n",
    "print(\"After:\", len(df))"
   ]
  },
  {
   "attachments": {},
   "cell_type": "markdown",
   "metadata": {},
   "source": [
    "### 2.3. 기초적인 데이터 변형"
   ]
  },
  {
   "cell_type": "code",
   "execution_count": null,
   "metadata": {},
   "outputs": [],
   "source": []
  },
  {
   "cell_type": "code",
   "execution_count": null,
   "metadata": {},
   "outputs": [],
   "source": []
  },
  {
   "cell_type": "code",
   "execution_count": null,
   "metadata": {},
   "outputs": [],
   "source": [
    "# 생산기간(부터) 컬럼을 종료_년, 종료_월, 종료_일 컬럼으로 분해\n",
    "\n",
    "\n"
   ]
  },
  {
   "cell_type": "code",
   "execution_count": null,
   "metadata": {},
   "outputs": [],
   "source": []
  },
  {
   "cell_type": "code",
   "execution_count": null,
   "metadata": {},
   "outputs": [],
   "source": []
  },
  {
   "cell_type": "code",
   "execution_count": null,
   "metadata": {},
   "outputs": [],
   "source": [
    "# 생산기간(까지) 컬럼을 종료_년, 종료_월, 종료_일 컬럼으로 분해\n",
    "\n",
    "\n",
    "\n",
    "\n",
    "\n",
    "# 리콜개시일 컬럼을 리콜_년, 리콜_월, 리콜_일 컬럼으로 분해\n",
    "\n",
    "\n",
    "\n",
    "\n",
    "\n"
   ]
  },
  {
   "cell_type": "code",
   "execution_count": null,
   "metadata": {},
   "outputs": [],
   "source": []
  },
  {
   "cell_type": "code",
   "execution_count": null,
   "metadata": {
    "execution": {
     "iopub.execute_input": "2021-07-14T07:49:26.290354Z",
     "iopub.status.busy": "2021-07-14T07:49:26.290046Z",
     "iopub.status.idle": "2021-07-14T07:49:26.310819Z",
     "shell.execute_reply": "2021-07-14T07:49:26.309651Z",
     "shell.execute_reply.started": "2021-07-14T07:49:26.290326Z"
    }
   },
   "outputs": [],
   "source": [
    "# 불필요한 열은 버림('생산기간(부터)', '생산기간(까지)', '리콜개시일')\n",
    "\n"
   ]
  },
  {
   "attachments": {},
   "cell_type": "markdown",
   "metadata": {},
   "source": [
    "본 분석에서는 2022년의 데이터만을 대상으로하므로, 그 외의 데이터가 있다면 삭제해주겠습니다."
   ]
  },
  {
   "cell_type": "code",
   "execution_count": null,
   "metadata": {},
   "outputs": [],
   "source": [
    "# 리콜_년 피처에 2022년만 있는지 체크\n"
   ]
  },
  {
   "cell_type": "code",
   "execution_count": null,
   "metadata": {},
   "outputs": [],
   "source": []
  },
  {
   "attachments": {},
   "cell_type": "markdown",
   "metadata": {},
   "source": [
    "---"
   ]
  },
  {
   "attachments": {},
   "cell_type": "markdown",
   "metadata": {},
   "source": [
    "## 3. 데이터 시각화"
   ]
  },
  {
   "attachments": {},
   "cell_type": "markdown",
   "metadata": {},
   "source": [
    "각 column의 변수별로 어떠한 데이터 분포를 하고 있는지 시각화를 통하여 알아봅시다."
   ]
  },
  {
   "attachments": {},
   "cell_type": "markdown",
   "metadata": {},
   "source": [
    "### 3.1. 제조사별 리콜 현황 출력"
   ]
  },
  {
   "attachments": {},
   "cell_type": "markdown",
   "metadata": {},
   "source": [
    "제조사별 리콜 건수 분포를 막대 그래프로 확인해보겠습니다."
   ]
  },
  {
   "cell_type": "code",
   "execution_count": null,
   "metadata": {},
   "outputs": [],
   "source": []
  },
  {
   "cell_type": "code",
   "execution_count": null,
   "metadata": {
    "execution": {
     "iopub.execute_input": "2021-07-14T07:49:26.312479Z",
     "iopub.status.busy": "2021-07-14T07:49:26.312134Z",
     "iopub.status.idle": "2021-07-14T07:49:26.330695Z",
     "shell.execute_reply": "2021-07-14T07:49:26.329328Z",
     "shell.execute_reply.started": "2021-07-14T07:49:26.312446Z"
    }
   },
   "outputs": [],
   "source": []
  },
  {
   "cell_type": "code",
   "execution_count": null,
   "metadata": {},
   "outputs": [],
   "source": []
  },
  {
   "cell_type": "code",
   "execution_count": null,
   "metadata": {},
   "outputs": [],
   "source": []
  },
  {
   "cell_type": "code",
   "execution_count": null,
   "metadata": {},
   "outputs": [],
   "source": [
    "import matplotlib.font_manager as fm\n",
    "import matplotlib.pyplot as plt\n",
    "\n",
    "# font_path = './NanumGothic.ttf' # 폰트 위치\n",
    "# plt.rc('font', family=font_name)\n",
    "\n",
    "plt.rc('font', family='Malgun Gothic')\n",
    "# plt.rc('font', family='AppleGothic')\n",
    "plt.rcParams['axes.unicode_minus'] = False # 마이너스 깨짐 현상 해결\n",
    "\n"
   ]
  },
  {
   "cell_type": "code",
   "execution_count": null,
   "metadata": {},
   "outputs": [],
   "source": []
  },
  {
   "attachments": {},
   "cell_type": "markdown",
   "metadata": {},
   "source": [
    "### 3.2. 모델별 리콜 현황 출력"
   ]
  },
  {
   "attachments": {},
   "cell_type": "markdown",
   "metadata": {},
   "source": [
    "차량 모델별 리콜 건수 분포를 막대 그래프로 확인해보겠습니다."
   ]
  },
  {
   "cell_type": "code",
   "execution_count": null,
   "metadata": {},
   "outputs": [],
   "source": [
    "\n",
    "tmp.head()"
   ]
  },
  {
   "attachments": {},
   "cell_type": "markdown",
   "metadata": {},
   "source": [
    "모델은 굉장히 많으므로, 상위 50개 모델만 뽑아서 시각화를 진행해보겠습니다."
   ]
  },
  {
   "cell_type": "code",
   "execution_count": null,
   "metadata": {},
   "outputs": [],
   "source": []
  },
  {
   "cell_type": "code",
   "execution_count": null,
   "metadata": {},
   "outputs": [],
   "source": []
  },
  {
   "attachments": {},
   "cell_type": "markdown",
   "metadata": {},
   "source": [
    "### 3.3. 월별 리콜 현황 출력"
   ]
  },
  {
   "attachments": {},
   "cell_type": "markdown",
   "metadata": {},
   "source": [
    "월별 리콜 건수 분포를 막대 그래프로 확인해보겠습니다."
   ]
  },
  {
   "cell_type": "code",
   "execution_count": null,
   "metadata": {},
   "outputs": [],
   "source": []
  },
  {
   "cell_type": "code",
   "execution_count": null,
   "metadata": {},
   "outputs": [],
   "source": []
  },
  {
   "attachments": {},
   "cell_type": "markdown",
   "metadata": {},
   "source": [
    "### 3.4. 생산연도별 리콜 현황 출력"
   ]
  },
  {
   "attachments": {},
   "cell_type": "markdown",
   "metadata": {},
   "source": [
    "이번에는 생산연도별 리콜 현황을 꺾은선 그래프로 알아보겠습니다."
   ]
  },
  {
   "cell_type": "code",
   "execution_count": null,
   "metadata": {},
   "outputs": [],
   "source": []
  },
  {
   "cell_type": "code",
   "execution_count": null,
   "metadata": {
    "execution": {
     "iopub.execute_input": "2021-07-14T07:49:28.889928Z",
     "iopub.status.busy": "2021-07-14T07:49:28.889622Z",
     "iopub.status.idle": "2021-07-14T07:49:29.175674Z",
     "shell.execute_reply": "2021-07-14T07:49:29.174749Z",
     "shell.execute_reply.started": "2021-07-14T07:49:28.889900Z"
    }
   },
   "outputs": [],
   "source": []
  },
  {
   "cell_type": "code",
   "execution_count": null,
   "metadata": {
    "execution": {
     "iopub.execute_input": "2021-07-14T07:49:29.177616Z",
     "iopub.status.busy": "2021-07-14T07:49:29.177347Z",
     "iopub.status.idle": "2021-07-14T07:49:29.187523Z",
     "shell.execute_reply": "2021-07-14T07:49:29.186633Z",
     "shell.execute_reply.started": "2021-07-14T07:49:29.177587Z"
    }
   },
   "outputs": [],
   "source": []
  },
  {
   "attachments": {},
   "cell_type": "markdown",
   "metadata": {},
   "source": [
    "#### 퀴즈 1. 2022년에 리콜 개시가 가장 많이 일어난 달(month)과 가장 적게 일어난 달의 차이(건수)를 구하세요."
   ]
  },
  {
   "cell_type": "code",
   "execution_count": null,
   "metadata": {},
   "outputs": [],
   "source": []
  },
  {
   "cell_type": "code",
   "execution_count": null,
   "metadata": {},
   "outputs": [],
   "source": []
  },
  {
   "cell_type": "code",
   "execution_count": null,
   "metadata": {},
   "outputs": [],
   "source": []
  },
  {
   "attachments": {},
   "cell_type": "markdown",
   "metadata": {},
   "source": [
    "### 3.5. 4분기 제조사별 리콜 현황 출력"
   ]
  },
  {
   "attachments": {},
   "cell_type": "markdown",
   "metadata": {},
   "source": [
    "가장 최근 데이터인 2022년 4분기(10, 11, 12월) 제조사별 리콜 현황을 시각화해봅시다."
   ]
  },
  {
   "cell_type": "code",
   "execution_count": null,
   "metadata": {},
   "outputs": [],
   "source": []
  },
  {
   "cell_type": "code",
   "execution_count": null,
   "metadata": {},
   "outputs": [],
   "source": []
  },
  {
   "cell_type": "code",
   "execution_count": null,
   "metadata": {},
   "outputs": [],
   "source": []
  },
  {
   "cell_type": "code",
   "execution_count": null,
   "metadata": {},
   "outputs": [],
   "source": []
  },
  {
   "attachments": {},
   "cell_type": "markdown",
   "metadata": {},
   "source": [
    "### 3.6. 하반기 생산연도별 리콜 현황 출력"
   ]
  },
  {
   "attachments": {},
   "cell_type": "markdown",
   "metadata": {},
   "source": [
    "이번에는 2022년 하반기(7~12월)에 개시된 리콜 건들을 생산 개시 연도를 기준으로 시각화해봅시다."
   ]
  },
  {
   "cell_type": "code",
   "execution_count": null,
   "metadata": {
    "execution": {
     "iopub.execute_input": "2021-07-14T07:52:05.090930Z",
     "iopub.status.busy": "2021-07-14T07:52:05.090552Z",
     "iopub.status.idle": "2021-07-14T07:52:05.114687Z",
     "shell.execute_reply": "2021-07-14T07:52:05.113535Z",
     "shell.execute_reply.started": "2021-07-14T07:52:05.090897Z"
    }
   },
   "outputs": [],
   "source": [
    "\n"
   ]
  },
  {
   "cell_type": "code",
   "execution_count": null,
   "metadata": {},
   "outputs": [],
   "source": []
  },
  {
   "cell_type": "code",
   "execution_count": null,
   "metadata": {},
   "outputs": [],
   "source": []
  },
  {
   "attachments": {},
   "cell_type": "markdown",
   "metadata": {},
   "source": [
    "### 3.7. 워드 클라우드를 이용한 리콜 사유 시각화"
   ]
  },
  {
   "attachments": {},
   "cell_type": "markdown",
   "metadata": {},
   "source": [
    "워드 클라우드를 이용하여 리콜 사유를 시각화해보도록 하겠습니다."
   ]
  },
  {
   "cell_type": "code",
   "execution_count": null,
   "metadata": {},
   "outputs": [],
   "source": [
    "# 워드 클라우드 생성을 도와주는 패키지를 가져옵니다.\n",
    "from wordcloud import WordCloud, STOPWORDS"
   ]
  },
  {
   "cell_type": "code",
   "execution_count": null,
   "metadata": {
    "execution": {
     "iopub.execute_input": "2021-07-14T07:52:13.248705Z",
     "iopub.status.busy": "2021-07-14T07:52:13.248293Z",
     "iopub.status.idle": "2021-07-14T07:52:13.258875Z",
     "shell.execute_reply": "2021-07-14T07:52:13.258131Z",
     "shell.execute_reply.started": "2021-07-14T07:52:13.248666Z"
    }
   },
   "outputs": [],
   "source": [
    "# 문법적인 성분들을 배제하기 위해 stopwords들을 따로 저장해둡니다.\n",
    "set(STOPWORDS)"
   ]
  },
  {
   "attachments": {},
   "cell_type": "markdown",
   "metadata": {},
   "source": [
    "영어를 사용할 때는 상관 없지만, 우리말을 쓸 때에는 적합하지 않습니다. 여기서는 예시로 몇 개의 stopwords들을 수기로 저장해보겠습니다."
   ]
  },
  {
   "cell_type": "code",
   "execution_count": null,
   "metadata": {
    "execution": {
     "iopub.execute_input": "2021-07-14T07:52:18.596069Z",
     "iopub.status.busy": "2021-07-14T07:52:18.595561Z",
     "iopub.status.idle": "2021-07-14T07:52:18.600036Z",
     "shell.execute_reply": "2021-07-14T07:52:18.599218Z",
     "shell.execute_reply.started": "2021-07-14T07:52:18.596037Z"
    }
   },
   "outputs": [],
   "source": [
    "# 손으로 직접 리콜 사유와 관련이 적은 문법적 어구들을 배제해보겠습니다.\n",
    "spwords = set([\"동안\", \"인하여\", \"있는\", \"경우\", \"있습니다\", \"가능성이\", \"않을\", \"차량의\", \"가\", \"에\", \"될\", \"이\",\n",
    "               \"인해\", \"수\", \"중\", \"시\", \"또는\", \"있음\", \"의\", \"및\", \"있으며\", \"발생할\", \"이로\", \"오류로\", \"해당\"])"
   ]
  },
  {
   "cell_type": "code",
   "execution_count": null,
   "metadata": {},
   "outputs": [],
   "source": []
  },
  {
   "cell_type": "code",
   "execution_count": null,
   "metadata": {},
   "outputs": [],
   "source": []
  },
  {
   "attachments": {},
   "cell_type": "markdown",
   "metadata": {},
   "source": [
    "워드 클라우드를 생성하고 시각화해보겠습니다."
   ]
  },
  {
   "cell_type": "code",
   "execution_count": null,
   "metadata": {
    "execution": {
     "iopub.execute_input": "2021-07-14T07:54:53.423675Z",
     "iopub.status.busy": "2021-07-14T07:54:53.423233Z",
     "iopub.status.idle": "2021-07-14T07:54:53.608966Z",
     "shell.execute_reply": "2021-07-14T07:54:53.606602Z",
     "shell.execute_reply.started": "2021-07-14T07:54:53.423635Z"
    }
   },
   "outputs": [],
   "source": [
    "# 한글을 사용하기 위해서는 폰트를 지정해주어야 합니다.\n",
    "pont_path = './NanumGothic.ttf'\n",
    "wc1 = WordCloud(max_font_size=200, stopwords=spwords, font_path=font_path,\n",
    "                background_color='white', width=800, height=800)\n",
    "wc1.generate(text)\n",
    "\n",
    "plt.figure(figsize=(10, 8))\n",
    "plt.imshow(wc1)\n",
    "plt.tight_layout(pad=0)\n",
    "plt.axis('off')\n",
    "plt.show()"
   ]
  },
  {
   "attachments": {},
   "cell_type": "markdown",
   "metadata": {},
   "source": [
    "#### 퀴즈 2. 기아자동차(주)의 제품 중 가장 최근에 리콜이 개시된 제품의 모델명을 구하세요. "
   ]
  },
  {
   "cell_type": "code",
   "execution_count": null,
   "metadata": {},
   "outputs": [],
   "source": []
  },
  {
   "cell_type": "code",
   "execution_count": null,
   "metadata": {},
   "outputs": [],
   "source": []
  },
  {
   "cell_type": "code",
   "execution_count": null,
   "metadata": {},
   "outputs": [],
   "source": []
  }
 ],
 "metadata": {
  "kernelspec": {
   "display_name": "Python 3",
   "language": "python",
   "name": "python3"
  },
  "language_info": {
   "codemirror_mode": {
    "name": "ipython",
    "version": 3
   },
   "file_extension": ".py",
   "mimetype": "text/x-python",
   "name": "python",
   "nbconvert_exporter": "python",
   "pygments_lexer": "ipython3",
   "version": "3.10.11"
  }
 },
 "nbformat": 4,
 "nbformat_minor": 4
}
